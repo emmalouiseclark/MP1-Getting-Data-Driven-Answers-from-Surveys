{
 "cells": [
  {
   "cell_type": "code",
   "execution_count": 1,
   "metadata": {},
   "outputs": [
    {
     "name": "stderr",
     "output_type": "stream",
     "text": [
      "/var/folders/_n/88nsmwlj1k5fmf9psfmkbhfc0000gn/T/ipykernel_12420/4080736814.py:1: DeprecationWarning: \n",
      "Pyarrow will become a required dependency of pandas in the next major release of pandas (pandas 3.0),\n",
      "(to allow more performant data types, such as the Arrow string type, and better interoperability with other libraries)\n",
      "but was not found to be installed on your system.\n",
      "If this would cause problems for you,\n",
      "please provide us feedback at https://github.com/pandas-dev/pandas/issues/54466\n",
      "        \n",
      "  import pandas as pd\n"
     ]
    }
   ],
   "source": [
    "import pandas as pd"
   ]
  },
  {
   "cell_type": "code",
   "execution_count": 13,
   "metadata": {},
   "outputs": [
    {
     "data": {
      "text/html": [
       "<div>\n",
       "<style scoped>\n",
       "    .dataframe tbody tr th:only-of-type {\n",
       "        vertical-align: middle;\n",
       "    }\n",
       "\n",
       "    .dataframe tbody tr th {\n",
       "        vertical-align: top;\n",
       "    }\n",
       "\n",
       "    .dataframe thead th {\n",
       "        text-align: right;\n",
       "    }\n",
       "</style>\n",
       "<table border=\"1\" class=\"dataframe\">\n",
       "  <thead>\n",
       "    <tr style=\"text-align: right;\">\n",
       "      <th></th>\n",
       "      <th>Timestamp</th>\n",
       "      <th>Email Address</th>\n",
       "      <th>What is your name?</th>\n",
       "      <th>What is your major/minor?</th>\n",
       "      <th>How old are you?</th>\n",
       "      <th>If you are in college, what year are you?</th>\n",
       "      <th>What is your gender?</th>\n",
       "      <th>What is your favorite dessert?</th>\n",
       "      <th>How often/when do you have dessert?</th>\n",
       "      <th>Do you prefer sweet or savory desserts?</th>\n",
       "      <th>Do you have any dietary restrictions that influence your dessert choices?</th>\n",
       "      <th>Do you prefer homemade or store bought desserts?</th>\n",
       "      <th>Do you find yourself craving dessert?</th>\n",
       "      <th>Where are you more likely to have dessert?</th>\n",
       "    </tr>\n",
       "  </thead>\n",
       "  <tbody>\n",
       "    <tr>\n",
       "      <th>0</th>\n",
       "      <td>1/24/2024 19:18:47</td>\n",
       "      <td>cvann@uab.edu</td>\n",
       "      <td>chloe</td>\n",
       "      <td>psych major, neuroscience minor</td>\n",
       "      <td>21</td>\n",
       "      <td>Junior</td>\n",
       "      <td>Female</td>\n",
       "      <td>Ice Cream</td>\n",
       "      <td>Daily</td>\n",
       "      <td>Sweet</td>\n",
       "      <td>Yes</td>\n",
       "      <td>Depends on the type of dessert</td>\n",
       "      <td>Yes</td>\n",
       "      <td>at home</td>\n",
       "    </tr>\n",
       "    <tr>\n",
       "      <th>1</th>\n",
       "      <td>1/24/2024 19:23:39</td>\n",
       "      <td>bbarnard073@gmail.com</td>\n",
       "      <td>Bryce Barnard</td>\n",
       "      <td>Biomedical engineering</td>\n",
       "      <td>22</td>\n",
       "      <td>Junior</td>\n",
       "      <td>Male</td>\n",
       "      <td>Ice Cream</td>\n",
       "      <td>Rarely</td>\n",
       "      <td>Sweet</td>\n",
       "      <td>No</td>\n",
       "      <td>Homemade</td>\n",
       "      <td>Sometimes</td>\n",
       "      <td>At an event</td>\n",
       "    </tr>\n",
       "    <tr>\n",
       "      <th>2</th>\n",
       "      <td>1/24/2024 19:25:44</td>\n",
       "      <td>mbyers1023@gmail.com</td>\n",
       "      <td>Maddy Byers</td>\n",
       "      <td>Early Childhood/Elementary Education</td>\n",
       "      <td>21</td>\n",
       "      <td>Junior</td>\n",
       "      <td>Female</td>\n",
       "      <td>Ice Cream</td>\n",
       "      <td>Weekly</td>\n",
       "      <td>Sweet</td>\n",
       "      <td>Yes</td>\n",
       "      <td>Depends on the type of dessert</td>\n",
       "      <td>Sometimes</td>\n",
       "      <td>At a bakery</td>\n",
       "    </tr>\n",
       "    <tr>\n",
       "      <th>3</th>\n",
       "      <td>1/24/2024 19:27:07</td>\n",
       "      <td>shraderabby@gmail.com</td>\n",
       "      <td>Abby Grace</td>\n",
       "      <td>Communications / PR (minor: creative writing)</td>\n",
       "      <td>20</td>\n",
       "      <td>Junior</td>\n",
       "      <td>Female</td>\n",
       "      <td>Cookies</td>\n",
       "      <td>Weekly</td>\n",
       "      <td>Sweet</td>\n",
       "      <td>No</td>\n",
       "      <td>No strong preference</td>\n",
       "      <td>Yes</td>\n",
       "      <td>At a bakery</td>\n",
       "    </tr>\n",
       "    <tr>\n",
       "      <th>4</th>\n",
       "      <td>1/24/2024 19:28:25</td>\n",
       "      <td>abb.mize@vikings.berry.edu</td>\n",
       "      <td>Abby Mize</td>\n",
       "      <td>International Affairs/Sociology</td>\n",
       "      <td>20</td>\n",
       "      <td>Junior</td>\n",
       "      <td>Female</td>\n",
       "      <td>Cheesecake</td>\n",
       "      <td>Weekly</td>\n",
       "      <td>Depends</td>\n",
       "      <td>No</td>\n",
       "      <td>Homemade</td>\n",
       "      <td>Sometimes</td>\n",
       "      <td>At an event</td>\n",
       "    </tr>\n",
       "  </tbody>\n",
       "</table>\n",
       "</div>"
      ],
      "text/plain": [
       "            Timestamp               Email Address What is your name?  \\\n",
       "0  1/24/2024 19:18:47               cvann@uab.edu              chloe   \n",
       "1  1/24/2024 19:23:39       bbarnard073@gmail.com      Bryce Barnard   \n",
       "2  1/24/2024 19:25:44        mbyers1023@gmail.com        Maddy Byers   \n",
       "3  1/24/2024 19:27:07       shraderabby@gmail.com        Abby Grace    \n",
       "4  1/24/2024 19:28:25  abb.mize@vikings.berry.edu          Abby Mize   \n",
       "\n",
       "                        What is your major/minor?  How old are you?  \\\n",
       "0                psych major, neuroscience minor                 21   \n",
       "1                         Biomedical engineering                 22   \n",
       "2            Early Childhood/Elementary Education                21   \n",
       "3  Communications / PR (minor: creative writing)                 20   \n",
       "4                International Affairs/Sociology                 20   \n",
       "\n",
       "  If you are in college, what year are you? What is your gender?  \\\n",
       "0                                    Junior               Female   \n",
       "1                                    Junior                 Male   \n",
       "2                                    Junior               Female   \n",
       "3                                    Junior               Female   \n",
       "4                                    Junior               Female   \n",
       "\n",
       "  What is your favorite dessert? How often/when do you have dessert?  \\\n",
       "0                      Ice Cream                               Daily   \n",
       "1                      Ice Cream                              Rarely   \n",
       "2                      Ice Cream                              Weekly   \n",
       "3                        Cookies                              Weekly   \n",
       "4                     Cheesecake                              Weekly   \n",
       "\n",
       "  Do you prefer sweet or savory desserts?  \\\n",
       "0                                   Sweet   \n",
       "1                                   Sweet   \n",
       "2                                   Sweet   \n",
       "3                                   Sweet   \n",
       "4                                 Depends   \n",
       "\n",
       "  Do you have any dietary restrictions that influence your dessert choices?  \\\n",
       "0                                                Yes                          \n",
       "1                                                 No                          \n",
       "2                                                Yes                          \n",
       "3                                                 No                          \n",
       "4                                                 No                          \n",
       "\n",
       "  Do you prefer homemade or store bought desserts?  \\\n",
       "0                   Depends on the type of dessert   \n",
       "1                                         Homemade   \n",
       "2                   Depends on the type of dessert   \n",
       "3                             No strong preference   \n",
       "4                                         Homemade   \n",
       "\n",
       "  Do you find yourself craving dessert?  \\\n",
       "0                                   Yes   \n",
       "1                             Sometimes   \n",
       "2                             Sometimes   \n",
       "3                                   Yes   \n",
       "4                             Sometimes   \n",
       "\n",
       "  Where are you more likely to have dessert?  \n",
       "0                                    at home  \n",
       "1                                At an event  \n",
       "2                                At a bakery  \n",
       "3                                At a bakery  \n",
       "4                                At an event  "
      ]
     },
     "execution_count": 13,
     "metadata": {},
     "output_type": "execute_result"
    }
   ],
   "source": [
    "rawDF = pd.read_csv(\"dessertSurvey.csv\")\n",
    "\n",
    "rawDF.head()"
   ]
  },
  {
   "cell_type": "markdown",
   "metadata": {},
   "source": [
    "PERCENTAGES FROM WHO QUESTIONS"
   ]
  },
  {
   "cell_type": "markdown",
   "metadata": {},
   "source": [
    "WHO Q1: If you are in college, what year are you?"
   ]
  },
  {
   "cell_type": "code",
   "execution_count": 15,
   "metadata": {},
   "outputs": [
    {
     "name": "stdout",
     "output_type": "stream",
     "text": [
      "Percentage of responses by college year:\n",
      "If you are in college, what year are you?\n",
      "Junior                           55.26%\n",
      "Freshman                         13.16%\n",
      "Sophomore                        10.53%\n",
      "Senior                            7.89%\n",
      "Unenrolled                        2.63%\n",
      "Senior +                          2.63%\n",
      "graduated                         2.63%\n",
      "Drop out                          2.63%\n",
      "None (Should not be required)     2.63%\n",
      "Name: count, dtype: object\n"
     ]
    }
   ],
   "source": [
    "college_responses = rawDF[rawDF['If you are in college, what year are you?'] != 'Not in college lol']\n",
    "\n",
    "college_year_counts = college_responses['If you are in college, what year are you?'].value_counts()\n",
    "\n",
    "college_year_percentages = college_year_counts / college_responses.shape[0] * 100\n",
    "\n",
    "print(\"Percentage of responses by college year:\")\n",
    "print(college_year_percentages.apply(lambda x: f\"{x:.2f}%\"))"
   ]
  },
  {
   "cell_type": "markdown",
   "metadata": {},
   "source": [
    "WHO A1: \n",
    "\n",
    "\n",
    "Junior     =                      55.26% \n",
    "\n",
    "Freshman           =              13.16% \n",
    "\n",
    "Sophomore     =                    10.53% \n",
    "\n",
    "Senior             =               7.89% \n",
    "\n",
    "Unenrolled          =              2.63% \n",
    "\n",
    "Senior +        =                  2.63% \n",
    "\n",
    "graduated              =           2.63% \n",
    "\n",
    "Drop out              =            2.63% \n",
    "\n",
    "None (Should not be required)     2.63%"
   ]
  },
  {
   "cell_type": "markdown",
   "metadata": {},
   "source": [
    "WHO Q2: How old are you?"
   ]
  },
  {
   "cell_type": "code",
   "execution_count": 11,
   "metadata": {},
   "outputs": [
    {
     "name": "stdout",
     "output_type": "stream",
     "text": [
      "Percentage of responses by age category:\n",
      "How old are you?\n",
      "20    35.90%\n",
      "21    30.77%\n",
      "19    15.38%\n",
      "18     7.69%\n",
      "22     5.13%\n",
      "23     5.13%\n",
      "Name: count, dtype: object\n"
     ]
    }
   ],
   "source": [
    "age_counts = rawDF['How old are you?'].value_counts()\n",
    "\n",
    "age_percentages = age_counts / rawDF.shape[0] * 100\n",
    "\n",
    "print(\"Percentage of responses by age category:\")\n",
    "print(age_percentages.apply(lambda x: f\"{x:.2f}%\"))"
   ]
  },
  {
   "cell_type": "markdown",
   "metadata": {},
   "source": [
    "WHO A2: \n",
    "\n",
    "\n",
    "20    35.90%\n",
    "\n",
    "21    30.77%\n",
    "\n",
    "19    15.38%\n",
    "\n",
    "18     7.69%\n",
    "\n",
    "22     5.13%\n",
    "\n",
    "23     5.13%"
   ]
  },
  {
   "cell_type": "markdown",
   "metadata": {},
   "source": [
    "WHO Q3: What is your gender?"
   ]
  },
  {
   "cell_type": "code",
   "execution_count": 9,
   "metadata": {},
   "outputs": [
    {
     "name": "stdout",
     "output_type": "stream",
     "text": [
      "Percentage of responses by gender category:\n",
      "What is your gender?\n",
      "Female    64.10%\n",
      "Male      35.90%\n",
      "Name: count, dtype: object\n"
     ]
    }
   ],
   "source": [
    "gender_counts = rawDF['What is your gender?'].value_counts()\n",
    "\n",
    "gender_percentages = gender_counts / rawDF.shape[0] * 100\n",
    "\n",
    "print(\"Percentage of responses by gender category:\")\n",
    "print(gender_percentages.apply(lambda x: f\"{x:.2f}%\"))"
   ]
  },
  {
   "cell_type": "markdown",
   "metadata": {},
   "source": [
    "WHO A3: \n",
    "\n",
    "\n",
    "Female     64.10%\n",
    "\n",
    "Male      35.90%"
   ]
  },
  {
   "cell_type": "markdown",
   "metadata": {},
   "source": [
    "PERCENTAGES FROM WHEN QUESTIONS"
   ]
  },
  {
   "cell_type": "markdown",
   "metadata": {},
   "source": [
    "WHAT Q1: How often/when do you have dessert?"
   ]
  },
  {
   "cell_type": "code",
   "execution_count": 16,
   "metadata": {},
   "outputs": [
    {
     "name": "stdout",
     "output_type": "stream",
     "text": [
      "Percentage of responses for 'How often/when do you have dessert?':\n",
      "How often/when do you have dessert?\n",
      "Weekly                  41.03%\n",
      "Daily                   20.51%\n",
      "On special occasions    17.95%\n",
      "Rarely                  15.38%\n",
      "Monthly                  5.13%\n",
      "Name: count, dtype: object\n"
     ]
    }
   ],
   "source": [
    "response_counts = rawDF['How often/when do you have dessert?'].value_counts()\n",
    "\n",
    "response_percentages = response_counts / rawDF.shape[0] * 100\n",
    "\n",
    "print(\"Percentage of responses for 'How often/when do you have dessert?':\")\n",
    "print(response_percentages.apply(lambda x: f\"{x:.2f}%\"))"
   ]
  },
  {
   "cell_type": "markdown",
   "metadata": {},
   "source": [
    "WHEN A1:\n",
    "\n",
    "Weekly                  41.03%\n",
    "\n",
    "Daily                   20.51%\n",
    "\n",
    "On special occasions    17.95%\n",
    "\n",
    "Rarely                  15.38%\n",
    "\n",
    "Monthly                  5.13%"
   ]
  },
  {
   "cell_type": "markdown",
   "metadata": {},
   "source": [
    "WHEN Q2: Where are you more likely to have dessert?"
   ]
  },
  {
   "cell_type": "code",
   "execution_count": 17,
   "metadata": {},
   "outputs": [
    {
     "name": "stdout",
     "output_type": "stream",
     "text": [
      "Percentage of responses for 'Where are you more likely to have dessert?':\n",
      "Where are you more likely to have dessert?\n",
      "At a bakery                              46.15%\n",
      "At an event                              20.51%\n",
      "At a restaurant                          12.82%\n",
      "At home                                   5.13%\n",
      "at home                                   2.56%\n",
      "wherever and whenever it is available     2.56%\n",
      "Anywhere that I can                       2.56%\n",
      "At home at 12am truthfully                2.56%\n",
      "anytime i need a sweet treat              2.56%\n",
      "Home                                      2.56%\n",
      "Name: count, dtype: object\n"
     ]
    }
   ],
   "source": [
    "response_counts = rawDF['Where are you more likely to have dessert?'].value_counts()\n",
    "\n",
    "response_percentages = response_counts / rawDF.shape[0] * 100\n",
    "\n",
    "print(\"Percentage of responses for 'Where are you more likely to have dessert?':\")\n",
    "print(response_percentages.apply(lambda x: f\"{x:.2f}%\"))"
   ]
  },
  {
   "cell_type": "markdown",
   "metadata": {},
   "source": [
    "WHEN A2:\n",
    "\n",
    "At a bakery                              46.15%\n",
    "\n",
    "At an event                              20.51%\n",
    "\n",
    "At a restaurant                          12.82%\n",
    "\n",
    "At home                                   5.13%\n",
    "\n",
    "at home                                   2.56%\n",
    "\n",
    "wherever and whenever it is available     2.56%\n",
    "\n",
    "Anywhere that I can                       2.56%\n",
    "\n",
    "At home at 12am truthfully                2.56%\n",
    "\n",
    "anytime i need a sweet treat              2.56%\n",
    "\n",
    "Home                                      2.56%"
   ]
  },
  {
   "cell_type": "markdown",
   "metadata": {},
   "source": [
    "PERCENTAGES OF WHAT QUESTIONS"
   ]
  },
  {
   "cell_type": "markdown",
   "metadata": {},
   "source": [
    "WHAT Q1:  What is your favorite dessert?\n"
   ]
  },
  {
   "cell_type": "code",
   "execution_count": 18,
   "metadata": {},
   "outputs": [
    {
     "name": "stdout",
     "output_type": "stream",
     "text": [
      "Percentage of responses for 'What is your favorite dessert?':\n",
      "What is your favorite dessert?\n",
      "Ice Cream        25.64%\n",
      "Brownies         25.64%\n",
      "Cookies          17.95%\n",
      "Cake             10.26%\n",
      "Pie               5.13%\n",
      "Cheesecake        2.56%\n",
      "Cheesecake        2.56%\n",
      " Cookie Dough     2.56%\n",
      "Frozen Yogurt     2.56%\n",
      "Custards          2.56%\n",
      "Donuts            2.56%\n",
      "Name: count, dtype: object\n"
     ]
    }
   ],
   "source": [
    "response_counts = rawDF['What is your favorite dessert?'].value_counts()\n",
    "\n",
    "response_percentages = response_counts / rawDF.shape[0] * 100\n",
    "\n",
    "print(\"Percentage of responses for 'What is your favorite dessert?':\")\n",
    "print(response_percentages.apply(lambda x: f\"{x:.2f}%\"))"
   ]
  },
  {
   "cell_type": "markdown",
   "metadata": {},
   "source": [
    "WHAT A1: \n",
    "\n",
    "Ice Cream        25.64%\n",
    "\n",
    "Brownies         25.64%\n",
    "\n",
    "Cookies          17.95%\n",
    "\n",
    "Cake             10.26%\n",
    "\n",
    "Pie               5.13%\n",
    "\n",
    "Cheesecake        2.56%\n",
    "\n",
    "Cheesecake        2.56%\n",
    "\n",
    " Cookie Dough     2.56%\n",
    "\n",
    "Frozen Yogurt     2.56%\n",
    "\n",
    "Custards          2.56%\n",
    "\n",
    "Donuts            2.56%"
   ]
  },
  {
   "cell_type": "markdown",
   "metadata": {},
   "source": [
    "WHAT Q2:  Do you prefer sweet or savory desserts?\n"
   ]
  },
  {
   "cell_type": "code",
   "execution_count": 19,
   "metadata": {},
   "outputs": [
    {
     "name": "stdout",
     "output_type": "stream",
     "text": [
      "Percentage of responses for 'Do you prefer sweet or savory desserts?':\n",
      "Do you prefer sweet or savory desserts?\n",
      "Sweet                                           64.10%\n",
      "Depends                                         23.08%\n",
      "Savory                                          10.26%\n",
      "both!! the perfect combo has both elements:)     2.56%\n",
      "Name: count, dtype: object\n"
     ]
    }
   ],
   "source": [
    "response_counts = rawDF['Do you prefer sweet or savory desserts?'].value_counts()\n",
    "\n",
    "response_percentages = response_counts / rawDF.shape[0] * 100\n",
    "\n",
    "print(\"Percentage of responses for 'Do you prefer sweet or savory desserts?':\")\n",
    "print(response_percentages.apply(lambda x: f\"{x:.2f}%\"))"
   ]
  },
  {
   "cell_type": "markdown",
   "metadata": {},
   "source": [
    "WHAT A2:\n",
    "\n",
    "Sweet                                           64.10%\n",
    "\n",
    "Depends                                         23.08%\n",
    "\n",
    "Savory                                          10.26%\n",
    "\n",
    "both!! the perfect combo has both elements:)     2.56%\n"
   ]
  },
  {
   "cell_type": "markdown",
   "metadata": {},
   "source": [
    "WHAT Q3: Do you have any dietary restrictions that influence your dessert choices?"
   ]
  },
  {
   "cell_type": "code",
   "execution_count": 12,
   "metadata": {},
   "outputs": [
    {
     "name": "stdout",
     "output_type": "stream",
     "text": [
      "Percentage of responses by dietary restriction category:\n",
      "Do you have any dietary restrictions that influence your dessert choices?\n",
      "No     84.62%\n",
      "Yes    15.38%\n",
      "Name: count, dtype: object\n"
     ]
    }
   ],
   "source": [
    "dietary_counts = rawDF['Do you have any dietary restrictions that influence your dessert choices?'].value_counts()\n",
    "\n",
    "dietary_percentages = dietary_counts / rawDF.shape[0] * 100\n",
    "\n",
    "print(\"Percentage of responses by dietary restriction category:\")\n",
    "print(dietary_percentages.apply(lambda x: f\"{x:.2f}%\"))"
   ]
  },
  {
   "cell_type": "markdown",
   "metadata": {},
   "source": [
    "WHAT A3:\n",
    "\n",
    "No     84.62%\n",
    "\n",
    "Yes    15.38%"
   ]
  },
  {
   "cell_type": "markdown",
   "metadata": {},
   "source": [
    "WHAT Q4:   Do you prefer homemade or store-bought desserts?\n"
   ]
  },
  {
   "cell_type": "code",
   "execution_count": 26,
   "metadata": {},
   "outputs": [
    {
     "name": "stdout",
     "output_type": "stream",
     "text": [
      "Percentage of responses for 'Do you prefer homemade or store bought desserts?':\n",
      "Do you prefer homemade or store bought desserts?\n",
      "Depends on the type of dessert                    38.46%\n",
      "Homemade                                          38.46%\n",
      "No strong preference                              15.38%\n",
      "Store bought                                       5.13%\n",
      "Homemade unless from Mac’s bakery in Rockmart      2.56%\n",
      "Name: count, dtype: object\n"
     ]
    }
   ],
   "source": [
    "response_counts = rawDF['Do you prefer homemade or store bought desserts?'].value_counts()\n",
    "\n",
    "response_percentages = response_counts / rawDF.shape[0] * 100\n",
    "\n",
    "print(\"Percentage of responses for 'Do you prefer homemade or store bought desserts?':\")\n",
    "print(response_percentages.apply(lambda x: f\"{x:.2f}%\"))"
   ]
  },
  {
   "cell_type": "markdown",
   "metadata": {},
   "source": [
    "WHAT A4:\n",
    "\n",
    "\n",
    "Depends on the type of dessert                    38.46%\n",
    "\n",
    "Homemade                                          38.46%\n",
    "\n",
    "No strong preference                              15.38%\n",
    "\n",
    "Store bought                                       5.13%\n",
    "\n",
    "Homemade unless from Mac’s bakery in Rockmart      2.56%"
   ]
  },
  {
   "cell_type": "markdown",
   "metadata": {},
   "source": [
    "WHY Q1: Do you find yourself craving dessert?"
   ]
  },
  {
   "cell_type": "code",
   "execution_count": 27,
   "metadata": {},
   "outputs": [
    {
     "name": "stdout",
     "output_type": "stream",
     "text": [
      "Percentage of responses for 'Do you find yourself craving dessert?':\n",
      "Do you find yourself craving dessert?\n",
      "Yes          53.85%\n",
      "Sometimes    41.03%\n",
      "No            5.13%\n",
      "Name: count, dtype: object\n"
     ]
    }
   ],
   "source": [
    "response_counts = rawDF['Do you find yourself craving dessert?'].value_counts()\n",
    "\n",
    "response_percentages = response_counts / rawDF.shape[0] * 100\n",
    "\n",
    "print(\"Percentage of responses for 'Do you find yourself craving dessert?':\")\n",
    "print(response_percentages.apply(lambda x: f\"{x:.2f}%\"))"
   ]
  },
  {
   "cell_type": "markdown",
   "metadata": {},
   "source": [
    "WHY A1:\n",
    "\n",
    "Yes          53.85%\n",
    "\n",
    "Sometimes    41.03%\n",
    "\n",
    "No            5.13%"
   ]
  },
  {
   "cell_type": "markdown",
   "metadata": {},
   "source": [
    "EXTRA DATA ANALYSIS "
   ]
  },
  {
   "cell_type": "code",
   "execution_count": null,
   "metadata": {},
   "outputs": [],
   "source": []
  }
 ],
 "metadata": {
  "kernelspec": {
   "display_name": "Python 3",
   "language": "python",
   "name": "python3"
  },
  "language_info": {
   "codemirror_mode": {
    "name": "ipython",
    "version": 3
   },
   "file_extension": ".py",
   "mimetype": "text/x-python",
   "name": "python",
   "nbconvert_exporter": "python",
   "pygments_lexer": "ipython3",
   "version": "3.9.6"
  }
 },
 "nbformat": 4,
 "nbformat_minor": 2
}
